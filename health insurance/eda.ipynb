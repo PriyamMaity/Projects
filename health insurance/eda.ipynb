# this dataset is the famous US insurance dataset
# dataset contains 1338 rows and 7 columns


# importing the required libraries
import numpy as np
import pandas as pd
import matplotlib.pyplot as plt
import seaborn as sns

# reading the file
df = pd.read_csv("path of the file")
df.head()

# displaying the columns of the dataset
df.columns

# description of the dataset
df.describe().T

# checking if the dataset has any duplicates
df.duplicated().sum()

# dropping the duplicate record
df.drop_duplicates(inplace=True)

# examining the features with the help of different plots

# countplot of 2 genders
sns.countplot(x= 'sex', data=df)
for container in plt.gca().containers:
    plt.gca().bar_label(container, fmt= '%.0f')
plt.title('Population of gender')
plt.xlabel('Gender')

# pie - chart
plt.figure(figsize=(6,6))
gender_counts = df['sex'].value_counts()
plt.pie(gender_counts, labels=gender_counts.index, autopct='%.2f%%', startangle=90, colors=['#b97455', '#44bcd8'])
plt.axis('equal')
plt.title('Percentage of genders')
plt.legend()

# countplot of smokers vs non - smokers
sns.countplot(x = 'smoker', data=df)
for container in plt.gca().containers:
    plt.gca().bar_label(container)

plt.title('Smokers vs Non-Smokers')

# histogram of smokers vs non smokers for genders
fig = px.histogram(df, x = 'smoker', color = 'sex', title='Smoker Distribution for Male and Female', barmode='group')
fig.show()

sns.countplot(data=df, x='smoker', hue='sex')
for container in plt.gca().containers:
    plt.gca().bar_label(container)

plt.title('Smoker distribution as per gender')

# distribution of region
plt.figure(figsize = (10,8))
sns.countplot(x='region', data=df)
for container in plt.gca().containers:
    plt.gca().bar_label(container)
plt.title('Number of records as per region')
plt.show()

# distribution of number of children
sns.countplot(x='children', data=df)
for container in plt.gca().containers:
    plt.gca().bar_label(container)
plt.title('Distribution of number of children')
plt.show()

# constructing a dataframe to find the sum of the charges of smokers and non - smokers
df_for_smoker = df[['smoker', 'charges']]
# df_for_region['smoker'] = df_for_region['smoker'].map({'yes':1,'no':0})
df_for_smoker['charges'] = round(df_for_smoker['charges'],2)
df_for_smoker

df_groupby_smoker = df_for_smoker.groupby('smoker').sum().reset_index()
df_groupby_smoker

plt.figure(figsize=(12,8))
h = sns.barplot(x='smoker', y='charges', hue='smoker', data=df_groupby_smoker, width=0.4)
for i in plt.gca().containers:
    plt.gca().bar_label(i, fmt='%.2f')

plt.title('Charges compared to smokers with non-smokers')
h.set(ylim=(0,10000000))
plt.legend()

# analysis of charges as per region
df_charges_region = df[['region', 'charges']]
df_charges_region.head()

df_charges_region_groupby = df_charges_region.groupby(['region']).sum().reset_index()
df_charges_region_groupby['charges'] = round(df_charges_region_groupby['charges'],2)
df_charges_region_groupby

r = sns.barplot(x='region', y= 'charges',hue= 'region',data=df_charges_region_groupby)
for i in plt.gca().containers:
    plt.gca().bar_label(i, fmt='%.2f')

plt.title('Total Charges as per region')
r.set(ylim=(0,6000000))



